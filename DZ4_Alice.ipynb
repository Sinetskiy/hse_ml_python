{
 "cells": [
  {
   "cell_type": "markdown",
   "metadata": {},
   "source": [
    "### Задача идентификации взломщика по его поведению в сети Интернет\n",
    "\n",
    "Ссылка: [Catch Me If You Can](https://www.kaggle.com/c/catch-me-if-you-can-intruder-detection-through-webpage-session-tracking2)\n",
    "\n",
    "У нас есть данные по посещениям пользователями каких-то сайтов и времени посещения.\n",
    "\n",
    "Необходимо определить сессии в тесте, которые осуществил определенный юзер. Его класс в трейне 1, все остальные юзеры 0.\n",
    "\n",
    "В ноутбуке приведен алгоритм создания спарс матрицы из сайтов, которые посещали люди из выборки. В каждой строке будет от 1 до 10 непустых элементов.\n",
    "\n",
    "По времени никаких фич не построено, это для самостоятельной работы."
   ]
  },
  {
   "cell_type": "code",
   "execution_count": 147,
   "metadata": {
    "ExecuteTime": {
     "end_time": "2018-11-30T20:46:57.371547Z",
     "start_time": "2018-11-30T20:46:57.333799Z"
    }
   },
   "outputs": [],
   "source": [
    "import pandas as pd\n",
    "import numpy as np\n",
    "import matplotlib.pyplot as plt\n",
    "from sklearn.metrics import roc_auc_score as auc\n",
    "from sklearn.linear_model import LogisticRegression\n",
    "from scipy.sparse import lil_matrix\n",
    "from sklearn.model_selection import KFold\n",
    "import time\n",
    "\n",
    "\n",
    "%matplotlib inline\n",
    "pd.set_option('display.max_columns', None)"
   ]
  },
  {
   "cell_type": "code",
   "execution_count": 148,
   "metadata": {
    "ExecuteTime": {
     "end_time": "2018-11-30T20:47:03.065672Z",
     "start_time": "2018-11-30T20:46:57.553425Z"
    }
   },
   "outputs": [],
   "source": [
    "data = pd.read_csv('./data/Alice/train_sessions.csv')\n",
    "test = pd.read_csv('./data/Alice/test_sessions.csv')"
   ]
  },
  {
   "cell_type": "code",
   "execution_count": 149,
   "metadata": {
    "ExecuteTime": {
     "end_time": "2018-11-30T20:47:04.309275Z",
     "start_time": "2018-11-30T20:47:03.069400Z"
    }
   },
   "outputs": [],
   "source": [
    "#запоминаем индекс для последующего разделения трейна и теста\n",
    "idx_split = data.shape[0]\n",
    "#объединяем трейн и тест. Создание спарс матрицы в таком, как у нас, виде особо не ликует.\n",
    "data = data.append(test, sort=False).reset_index(drop=True)"
   ]
  },
  {
   "cell_type": "code",
   "execution_count": 150,
   "metadata": {
    "ExecuteTime": {
     "end_time": "2018-11-30T20:47:04.358026Z",
     "start_time": "2018-11-30T20:47:04.312376Z"
    }
   },
   "outputs": [
    {
     "data": {
      "text/html": [
       "<div>\n",
       "<style scoped>\n",
       "    .dataframe tbody tr th:only-of-type {\n",
       "        vertical-align: middle;\n",
       "    }\n",
       "\n",
       "    .dataframe tbody tr th {\n",
       "        vertical-align: top;\n",
       "    }\n",
       "\n",
       "    .dataframe thead th {\n",
       "        text-align: right;\n",
       "    }\n",
       "</style>\n",
       "<table border=\"1\" class=\"dataframe\">\n",
       "  <thead>\n",
       "    <tr style=\"text-align: right;\">\n",
       "      <th></th>\n",
       "      <th>session_id</th>\n",
       "      <th>site1</th>\n",
       "      <th>time1</th>\n",
       "      <th>site2</th>\n",
       "      <th>time2</th>\n",
       "      <th>site3</th>\n",
       "      <th>time3</th>\n",
       "      <th>site4</th>\n",
       "      <th>time4</th>\n",
       "      <th>site5</th>\n",
       "      <th>time5</th>\n",
       "      <th>site6</th>\n",
       "      <th>time6</th>\n",
       "      <th>site7</th>\n",
       "      <th>time7</th>\n",
       "      <th>site8</th>\n",
       "      <th>time8</th>\n",
       "      <th>site9</th>\n",
       "      <th>time9</th>\n",
       "      <th>site10</th>\n",
       "      <th>time10</th>\n",
       "      <th>target</th>\n",
       "    </tr>\n",
       "  </thead>\n",
       "  <tbody>\n",
       "    <tr>\n",
       "      <th>0</th>\n",
       "      <td>1</td>\n",
       "      <td>718</td>\n",
       "      <td>2014-02-20 10:02:45</td>\n",
       "      <td>NaN</td>\n",
       "      <td>NaN</td>\n",
       "      <td>NaN</td>\n",
       "      <td>NaN</td>\n",
       "      <td>NaN</td>\n",
       "      <td>NaN</td>\n",
       "      <td>NaN</td>\n",
       "      <td>NaN</td>\n",
       "      <td>NaN</td>\n",
       "      <td>NaN</td>\n",
       "      <td>NaN</td>\n",
       "      <td>NaN</td>\n",
       "      <td>NaN</td>\n",
       "      <td>NaN</td>\n",
       "      <td>NaN</td>\n",
       "      <td>NaN</td>\n",
       "      <td>NaN</td>\n",
       "      <td>NaN</td>\n",
       "      <td>0.0</td>\n",
       "    </tr>\n",
       "    <tr>\n",
       "      <th>1</th>\n",
       "      <td>2</td>\n",
       "      <td>890</td>\n",
       "      <td>2014-02-22 11:19:50</td>\n",
       "      <td>941.0</td>\n",
       "      <td>2014-02-22 11:19:50</td>\n",
       "      <td>3847.0</td>\n",
       "      <td>2014-02-22 11:19:51</td>\n",
       "      <td>941.0</td>\n",
       "      <td>2014-02-22 11:19:51</td>\n",
       "      <td>942.0</td>\n",
       "      <td>2014-02-22 11:19:51</td>\n",
       "      <td>3846.0</td>\n",
       "      <td>2014-02-22 11:19:51</td>\n",
       "      <td>3847.0</td>\n",
       "      <td>2014-02-22 11:19:52</td>\n",
       "      <td>3846.0</td>\n",
       "      <td>2014-02-22 11:19:52</td>\n",
       "      <td>1516.0</td>\n",
       "      <td>2014-02-22 11:20:15</td>\n",
       "      <td>1518.0</td>\n",
       "      <td>2014-02-22 11:20:16</td>\n",
       "      <td>0.0</td>\n",
       "    </tr>\n",
       "    <tr>\n",
       "      <th>2</th>\n",
       "      <td>3</td>\n",
       "      <td>14769</td>\n",
       "      <td>2013-12-16 16:40:17</td>\n",
       "      <td>39.0</td>\n",
       "      <td>2013-12-16 16:40:18</td>\n",
       "      <td>14768.0</td>\n",
       "      <td>2013-12-16 16:40:19</td>\n",
       "      <td>14769.0</td>\n",
       "      <td>2013-12-16 16:40:19</td>\n",
       "      <td>37.0</td>\n",
       "      <td>2013-12-16 16:40:19</td>\n",
       "      <td>39.0</td>\n",
       "      <td>2013-12-16 16:40:19</td>\n",
       "      <td>14768.0</td>\n",
       "      <td>2013-12-16 16:40:20</td>\n",
       "      <td>14768.0</td>\n",
       "      <td>2013-12-16 16:40:21</td>\n",
       "      <td>14768.0</td>\n",
       "      <td>2013-12-16 16:40:22</td>\n",
       "      <td>14768.0</td>\n",
       "      <td>2013-12-16 16:40:24</td>\n",
       "      <td>0.0</td>\n",
       "    </tr>\n",
       "    <tr>\n",
       "      <th>3</th>\n",
       "      <td>4</td>\n",
       "      <td>782</td>\n",
       "      <td>2014-03-28 10:52:12</td>\n",
       "      <td>782.0</td>\n",
       "      <td>2014-03-28 10:52:42</td>\n",
       "      <td>782.0</td>\n",
       "      <td>2014-03-28 10:53:12</td>\n",
       "      <td>782.0</td>\n",
       "      <td>2014-03-28 10:53:42</td>\n",
       "      <td>782.0</td>\n",
       "      <td>2014-03-28 10:54:12</td>\n",
       "      <td>782.0</td>\n",
       "      <td>2014-03-28 10:54:42</td>\n",
       "      <td>782.0</td>\n",
       "      <td>2014-03-28 10:55:12</td>\n",
       "      <td>782.0</td>\n",
       "      <td>2014-03-28 10:55:42</td>\n",
       "      <td>782.0</td>\n",
       "      <td>2014-03-28 10:56:12</td>\n",
       "      <td>782.0</td>\n",
       "      <td>2014-03-28 10:56:42</td>\n",
       "      <td>0.0</td>\n",
       "    </tr>\n",
       "    <tr>\n",
       "      <th>4</th>\n",
       "      <td>5</td>\n",
       "      <td>22</td>\n",
       "      <td>2014-02-28 10:53:05</td>\n",
       "      <td>177.0</td>\n",
       "      <td>2014-02-28 10:55:22</td>\n",
       "      <td>175.0</td>\n",
       "      <td>2014-02-28 10:55:22</td>\n",
       "      <td>178.0</td>\n",
       "      <td>2014-02-28 10:55:23</td>\n",
       "      <td>177.0</td>\n",
       "      <td>2014-02-28 10:55:23</td>\n",
       "      <td>178.0</td>\n",
       "      <td>2014-02-28 10:55:59</td>\n",
       "      <td>175.0</td>\n",
       "      <td>2014-02-28 10:55:59</td>\n",
       "      <td>177.0</td>\n",
       "      <td>2014-02-28 10:55:59</td>\n",
       "      <td>177.0</td>\n",
       "      <td>2014-02-28 10:57:06</td>\n",
       "      <td>178.0</td>\n",
       "      <td>2014-02-28 10:57:11</td>\n",
       "      <td>0.0</td>\n",
       "    </tr>\n",
       "  </tbody>\n",
       "</table>\n",
       "</div>"
      ],
      "text/plain": [
       "   session_id  site1                time1  site2                time2  \\\n",
       "0           1    718  2014-02-20 10:02:45    NaN                  NaN   \n",
       "1           2    890  2014-02-22 11:19:50  941.0  2014-02-22 11:19:50   \n",
       "2           3  14769  2013-12-16 16:40:17   39.0  2013-12-16 16:40:18   \n",
       "3           4    782  2014-03-28 10:52:12  782.0  2014-03-28 10:52:42   \n",
       "4           5     22  2014-02-28 10:53:05  177.0  2014-02-28 10:55:22   \n",
       "\n",
       "     site3                time3    site4                time4  site5  \\\n",
       "0      NaN                  NaN      NaN                  NaN    NaN   \n",
       "1   3847.0  2014-02-22 11:19:51    941.0  2014-02-22 11:19:51  942.0   \n",
       "2  14768.0  2013-12-16 16:40:19  14769.0  2013-12-16 16:40:19   37.0   \n",
       "3    782.0  2014-03-28 10:53:12    782.0  2014-03-28 10:53:42  782.0   \n",
       "4    175.0  2014-02-28 10:55:22    178.0  2014-02-28 10:55:23  177.0   \n",
       "\n",
       "                 time5   site6                time6    site7  \\\n",
       "0                  NaN     NaN                  NaN      NaN   \n",
       "1  2014-02-22 11:19:51  3846.0  2014-02-22 11:19:51   3847.0   \n",
       "2  2013-12-16 16:40:19    39.0  2013-12-16 16:40:19  14768.0   \n",
       "3  2014-03-28 10:54:12   782.0  2014-03-28 10:54:42    782.0   \n",
       "4  2014-02-28 10:55:23   178.0  2014-02-28 10:55:59    175.0   \n",
       "\n",
       "                 time7    site8                time8    site9  \\\n",
       "0                  NaN      NaN                  NaN      NaN   \n",
       "1  2014-02-22 11:19:52   3846.0  2014-02-22 11:19:52   1516.0   \n",
       "2  2013-12-16 16:40:20  14768.0  2013-12-16 16:40:21  14768.0   \n",
       "3  2014-03-28 10:55:12    782.0  2014-03-28 10:55:42    782.0   \n",
       "4  2014-02-28 10:55:59    177.0  2014-02-28 10:55:59    177.0   \n",
       "\n",
       "                 time9   site10               time10  target  \n",
       "0                  NaN      NaN                  NaN     0.0  \n",
       "1  2014-02-22 11:20:15   1518.0  2014-02-22 11:20:16     0.0  \n",
       "2  2013-12-16 16:40:22  14768.0  2013-12-16 16:40:24     0.0  \n",
       "3  2014-03-28 10:56:12    782.0  2014-03-28 10:56:42     0.0  \n",
       "4  2014-02-28 10:57:06    178.0  2014-02-28 10:57:11     0.0  "
      ]
     },
     "execution_count": 150,
     "metadata": {},
     "output_type": "execute_result"
    }
   ],
   "source": [
    "data.head()"
   ]
  },
  {
   "cell_type": "code",
   "execution_count": 151,
   "metadata": {
    "ExecuteTime": {
     "end_time": "2018-11-30T20:47:04.754609Z",
     "start_time": "2018-11-30T20:47:04.361584Z"
    }
   },
   "outputs": [
    {
     "name": "stdout",
     "output_type": "stream",
     "text": [
      "<class 'pandas.core.frame.DataFrame'>\n",
      "RangeIndex: 336358 entries, 0 to 336357\n",
      "Data columns (total 22 columns):\n",
      "session_id    336358 non-null int64\n",
      "site1         336358 non-null int64\n",
      "time1         336358 non-null object\n",
      "site2         331406 non-null float64\n",
      "time2         331406 non-null object\n",
      "site3         326994 non-null float64\n",
      "time3         326994 non-null object\n",
      "site4         323503 non-null float64\n",
      "time4         323503 non-null object\n",
      "site5         320170 non-null float64\n",
      "time5         320170 non-null object\n",
      "site6         317061 non-null float64\n",
      "time6         317061 non-null object\n",
      "site7         314137 non-null float64\n",
      "time7         314137 non-null object\n",
      "site8         311375 non-null float64\n",
      "time8         311375 non-null object\n",
      "site9         308568 non-null float64\n",
      "time9         308568 non-null object\n",
      "site10        305858 non-null float64\n",
      "time10        305858 non-null object\n",
      "target        253561 non-null float64\n",
      "dtypes: float64(10), int64(2), object(10)\n",
      "memory usage: 56.5+ MB\n"
     ]
    }
   ],
   "source": [
    "data.info()"
   ]
  },
  {
   "cell_type": "code",
   "execution_count": 152,
   "metadata": {
    "ExecuteTime": {
     "end_time": "2018-11-30T20:47:04.774330Z",
     "start_time": "2018-11-30T20:47:04.764004Z"
    }
   },
   "outputs": [],
   "source": [
    "num_cols = [col for col in data.columns if data[col].dtype=='int64' or\n",
    "                                           data[col].dtype=='float64']\n",
    "num_cols.remove('target')\n",
    "time_cols = [col for col in data.columns if data[col].dtype=='object']"
   ]
  },
  {
   "cell_type": "code",
   "execution_count": 153,
   "metadata": {
    "ExecuteTime": {
     "end_time": "2018-11-30T20:47:06.652427Z",
     "start_time": "2018-11-30T20:47:04.785644Z"
    }
   },
   "outputs": [],
   "source": [
    "for col in time_cols:\n",
    "    data[col] = pd.to_datetime(data[col], yearfirst=True)"
   ]
  },
  {
   "cell_type": "code",
   "execution_count": 154,
   "metadata": {
    "ExecuteTime": {
     "end_time": "2018-11-30T20:47:08.452444Z",
     "start_time": "2018-11-30T20:47:06.654988Z"
    }
   },
   "outputs": [],
   "source": [
    "for col in time_cols:\n",
    "    #data[col + 'year'] = data[col].dt.year;\n",
    "    #data[col + 'month'] = data[col].dt.month;\n",
    "    #data[col + 'day'] = data[col].dt.day;\n",
    "    data[col + 'hours'] = data[col].dt.hour;\n",
    "    #data[col + 'minuts'] = data[col].dt.minute;\n",
    "    data.drop(col, axis=1, inplace=True)\n",
    "    "
   ]
  },
  {
   "cell_type": "code",
   "execution_count": 155,
   "metadata": {
    "ExecuteTime": {
     "end_time": "2018-11-30T20:47:09.147317Z",
     "start_time": "2018-11-30T20:47:08.515892Z"
    },
    "scrolled": true
   },
   "outputs": [
    {
     "name": "stdout",
     "output_type": "stream",
     "text": [
      "<class 'pandas.core.frame.DataFrame'>\n",
      "RangeIndex: 336358 entries, 0 to 336357\n",
      "Data columns (total 22 columns):\n",
      "session_id     336358 non-null int64\n",
      "site1          336358 non-null int64\n",
      "site2          331406 non-null float64\n",
      "site3          326994 non-null float64\n",
      "site4          323503 non-null float64\n",
      "site5          320170 non-null float64\n",
      "site6          317061 non-null float64\n",
      "site7          314137 non-null float64\n",
      "site8          311375 non-null float64\n",
      "site9          308568 non-null float64\n",
      "site10         305858 non-null float64\n",
      "target         253561 non-null float64\n",
      "time1hours     336358 non-null int64\n",
      "time2hours     331406 non-null float64\n",
      "time3hours     326994 non-null float64\n",
      "time4hours     323503 non-null float64\n",
      "time5hours     320170 non-null float64\n",
      "time6hours     317061 non-null float64\n",
      "time7hours     314137 non-null float64\n",
      "time8hours     311375 non-null float64\n",
      "time9hours     308568 non-null float64\n",
      "time10hours    305858 non-null float64\n",
      "dtypes: float64(19), int64(3)\n",
      "memory usage: 56.5 MB\n"
     ]
    }
   ],
   "source": [
    "data.info()"
   ]
  },
  {
   "cell_type": "code",
   "execution_count": 156,
   "metadata": {
    "ExecuteTime": {
     "end_time": "2018-11-30T20:47:10.276277Z",
     "start_time": "2018-11-30T20:47:09.154161Z"
    }
   },
   "outputs": [],
   "source": [
    "num_cols = [col for col in data.columns if data[col].dtype=='int64' or\n",
    "                                           data[col].dtype=='float64']\n",
    "\n",
    "#Заполним отсутствующие сайты уникальным значением.\n",
    "data[num_cols] = data[num_cols].fillna(-1)\n",
    "#Это необходимо для того, чтобы данные по сайтам привести к целочисленному типу.\n",
    "data[num_cols] = data[num_cols].astype(int)"
   ]
  },
  {
   "cell_type": "code",
   "execution_count": 157,
   "metadata": {
    "ExecuteTime": {
     "end_time": "2018-11-30T20:47:10.616381Z",
     "start_time": "2018-11-30T20:47:10.280701Z"
    }
   },
   "outputs": [
    {
     "name": "stdout",
     "output_type": "stream",
     "text": [
      "<class 'pandas.core.frame.DataFrame'>\n",
      "RangeIndex: 336358 entries, 0 to 336357\n",
      "Data columns (total 22 columns):\n",
      "session_id     336358 non-null int64\n",
      "site1          336358 non-null int64\n",
      "site2          336358 non-null int64\n",
      "site3          336358 non-null int64\n",
      "site4          336358 non-null int64\n",
      "site5          336358 non-null int64\n",
      "site6          336358 non-null int64\n",
      "site7          336358 non-null int64\n",
      "site8          336358 non-null int64\n",
      "site9          336358 non-null int64\n",
      "site10         336358 non-null int64\n",
      "target         336358 non-null int64\n",
      "time1hours     336358 non-null int64\n",
      "time2hours     336358 non-null int64\n",
      "time3hours     336358 non-null int64\n",
      "time4hours     336358 non-null int64\n",
      "time5hours     336358 non-null int64\n",
      "time6hours     336358 non-null int64\n",
      "time7hours     336358 non-null int64\n",
      "time8hours     336358 non-null int64\n",
      "time9hours     336358 non-null int64\n",
      "time10hours    336358 non-null int64\n",
      "dtypes: int64(22)\n",
      "memory usage: 56.5 MB\n"
     ]
    }
   ],
   "source": [
    "data.info()"
   ]
  },
  {
   "cell_type": "code",
   "execution_count": 158,
   "metadata": {
    "ExecuteTime": {
     "end_time": "2018-11-30T20:47:10.683466Z",
     "start_time": "2018-11-30T20:47:10.629812Z"
    }
   },
   "outputs": [
    {
     "data": {
      "text/html": [
       "<div>\n",
       "<style scoped>\n",
       "    .dataframe tbody tr th:only-of-type {\n",
       "        vertical-align: middle;\n",
       "    }\n",
       "\n",
       "    .dataframe tbody tr th {\n",
       "        vertical-align: top;\n",
       "    }\n",
       "\n",
       "    .dataframe thead th {\n",
       "        text-align: right;\n",
       "    }\n",
       "</style>\n",
       "<table border=\"1\" class=\"dataframe\">\n",
       "  <thead>\n",
       "    <tr style=\"text-align: right;\">\n",
       "      <th></th>\n",
       "      <th>session_id</th>\n",
       "      <th>site1</th>\n",
       "      <th>site2</th>\n",
       "      <th>site3</th>\n",
       "      <th>site4</th>\n",
       "      <th>site5</th>\n",
       "      <th>site6</th>\n",
       "      <th>site7</th>\n",
       "      <th>site8</th>\n",
       "      <th>site9</th>\n",
       "      <th>site10</th>\n",
       "      <th>target</th>\n",
       "      <th>time1hours</th>\n",
       "      <th>time2hours</th>\n",
       "      <th>time3hours</th>\n",
       "      <th>time4hours</th>\n",
       "      <th>time5hours</th>\n",
       "      <th>time6hours</th>\n",
       "      <th>time7hours</th>\n",
       "      <th>time8hours</th>\n",
       "      <th>time9hours</th>\n",
       "      <th>time10hours</th>\n",
       "    </tr>\n",
       "  </thead>\n",
       "  <tbody>\n",
       "    <tr>\n",
       "      <th>0</th>\n",
       "      <td>1</td>\n",
       "      <td>718</td>\n",
       "      <td>-1</td>\n",
       "      <td>-1</td>\n",
       "      <td>-1</td>\n",
       "      <td>-1</td>\n",
       "      <td>-1</td>\n",
       "      <td>-1</td>\n",
       "      <td>-1</td>\n",
       "      <td>-1</td>\n",
       "      <td>-1</td>\n",
       "      <td>0</td>\n",
       "      <td>10</td>\n",
       "      <td>-1</td>\n",
       "      <td>-1</td>\n",
       "      <td>-1</td>\n",
       "      <td>-1</td>\n",
       "      <td>-1</td>\n",
       "      <td>-1</td>\n",
       "      <td>-1</td>\n",
       "      <td>-1</td>\n",
       "      <td>-1</td>\n",
       "    </tr>\n",
       "    <tr>\n",
       "      <th>1</th>\n",
       "      <td>2</td>\n",
       "      <td>890</td>\n",
       "      <td>941</td>\n",
       "      <td>3847</td>\n",
       "      <td>941</td>\n",
       "      <td>942</td>\n",
       "      <td>3846</td>\n",
       "      <td>3847</td>\n",
       "      <td>3846</td>\n",
       "      <td>1516</td>\n",
       "      <td>1518</td>\n",
       "      <td>0</td>\n",
       "      <td>11</td>\n",
       "      <td>11</td>\n",
       "      <td>11</td>\n",
       "      <td>11</td>\n",
       "      <td>11</td>\n",
       "      <td>11</td>\n",
       "      <td>11</td>\n",
       "      <td>11</td>\n",
       "      <td>11</td>\n",
       "      <td>11</td>\n",
       "    </tr>\n",
       "    <tr>\n",
       "      <th>2</th>\n",
       "      <td>3</td>\n",
       "      <td>14769</td>\n",
       "      <td>39</td>\n",
       "      <td>14768</td>\n",
       "      <td>14769</td>\n",
       "      <td>37</td>\n",
       "      <td>39</td>\n",
       "      <td>14768</td>\n",
       "      <td>14768</td>\n",
       "      <td>14768</td>\n",
       "      <td>14768</td>\n",
       "      <td>0</td>\n",
       "      <td>16</td>\n",
       "      <td>16</td>\n",
       "      <td>16</td>\n",
       "      <td>16</td>\n",
       "      <td>16</td>\n",
       "      <td>16</td>\n",
       "      <td>16</td>\n",
       "      <td>16</td>\n",
       "      <td>16</td>\n",
       "      <td>16</td>\n",
       "    </tr>\n",
       "    <tr>\n",
       "      <th>3</th>\n",
       "      <td>4</td>\n",
       "      <td>782</td>\n",
       "      <td>782</td>\n",
       "      <td>782</td>\n",
       "      <td>782</td>\n",
       "      <td>782</td>\n",
       "      <td>782</td>\n",
       "      <td>782</td>\n",
       "      <td>782</td>\n",
       "      <td>782</td>\n",
       "      <td>782</td>\n",
       "      <td>0</td>\n",
       "      <td>10</td>\n",
       "      <td>10</td>\n",
       "      <td>10</td>\n",
       "      <td>10</td>\n",
       "      <td>10</td>\n",
       "      <td>10</td>\n",
       "      <td>10</td>\n",
       "      <td>10</td>\n",
       "      <td>10</td>\n",
       "      <td>10</td>\n",
       "    </tr>\n",
       "    <tr>\n",
       "      <th>4</th>\n",
       "      <td>5</td>\n",
       "      <td>22</td>\n",
       "      <td>177</td>\n",
       "      <td>175</td>\n",
       "      <td>178</td>\n",
       "      <td>177</td>\n",
       "      <td>178</td>\n",
       "      <td>175</td>\n",
       "      <td>177</td>\n",
       "      <td>177</td>\n",
       "      <td>178</td>\n",
       "      <td>0</td>\n",
       "      <td>10</td>\n",
       "      <td>10</td>\n",
       "      <td>10</td>\n",
       "      <td>10</td>\n",
       "      <td>10</td>\n",
       "      <td>10</td>\n",
       "      <td>10</td>\n",
       "      <td>10</td>\n",
       "      <td>10</td>\n",
       "      <td>10</td>\n",
       "    </tr>\n",
       "  </tbody>\n",
       "</table>\n",
       "</div>"
      ],
      "text/plain": [
       "   session_id  site1  site2  site3  site4  site5  site6  site7  site8  site9  \\\n",
       "0           1    718     -1     -1     -1     -1     -1     -1     -1     -1   \n",
       "1           2    890    941   3847    941    942   3846   3847   3846   1516   \n",
       "2           3  14769     39  14768  14769     37     39  14768  14768  14768   \n",
       "3           4    782    782    782    782    782    782    782    782    782   \n",
       "4           5     22    177    175    178    177    178    175    177    177   \n",
       "\n",
       "   site10  target  time1hours  time2hours  time3hours  time4hours  time5hours  \\\n",
       "0      -1       0          10          -1          -1          -1          -1   \n",
       "1    1518       0          11          11          11          11          11   \n",
       "2   14768       0          16          16          16          16          16   \n",
       "3     782       0          10          10          10          10          10   \n",
       "4     178       0          10          10          10          10          10   \n",
       "\n",
       "   time6hours  time7hours  time8hours  time9hours  time10hours  \n",
       "0          -1          -1          -1          -1           -1  \n",
       "1          11          11          11          11           11  \n",
       "2          16          16          16          16           16  \n",
       "3          10          10          10          10           10  \n",
       "4          10          10          10          10           10  "
      ]
     },
     "execution_count": 158,
     "metadata": {},
     "output_type": "execute_result"
    }
   ],
   "source": [
    "data.head()"
   ]
  },
  {
   "cell_type": "code",
   "execution_count": 159,
   "metadata": {
    "ExecuteTime": {
     "end_time": "2018-11-30T20:47:10.715721Z",
     "start_time": "2018-11-30T20:47:10.694886Z"
    }
   },
   "outputs": [],
   "source": [
    "sites = [col for col in data.columns if col.startswith('site') or col.startswith('time')]"
   ]
  },
  {
   "cell_type": "code",
   "execution_count": 160,
   "metadata": {
    "ExecuteTime": {
     "end_time": "2018-11-30T20:47:10.732069Z",
     "start_time": "2018-11-30T20:47:10.719086Z"
    }
   },
   "outputs": [],
   "source": [
    "# Этой функцией создаем словарь посещенных юзерами сайтов\n",
    "def find_sites(li):\n",
    "    lli = {}\n",
    "    for l in li:\n",
    "        if l > 0:\n",
    "            if l in lli:\n",
    "                lli[str(l)] += 1\n",
    "            else:\n",
    "                lli[str(l)] = 1\n",
    "    return lli"
   ]
  },
  {
   "cell_type": "code",
   "execution_count": 161,
   "metadata": {
    "ExecuteTime": {
     "end_time": "2018-11-30T20:47:24.401994Z",
     "start_time": "2018-11-30T20:47:10.736939Z"
    }
   },
   "outputs": [],
   "source": [
    "data['all_sites'] = data[sites].apply(find_sites, axis=1)"
   ]
  },
  {
   "cell_type": "code",
   "execution_count": 162,
   "metadata": {
    "ExecuteTime": {
     "end_time": "2018-11-30T20:47:24.449449Z",
     "start_time": "2018-11-30T20:47:24.405560Z"
    },
    "scrolled": true
   },
   "outputs": [
    {
     "data": {
      "text/html": [
       "<div>\n",
       "<style scoped>\n",
       "    .dataframe tbody tr th:only-of-type {\n",
       "        vertical-align: middle;\n",
       "    }\n",
       "\n",
       "    .dataframe tbody tr th {\n",
       "        vertical-align: top;\n",
       "    }\n",
       "\n",
       "    .dataframe thead th {\n",
       "        text-align: right;\n",
       "    }\n",
       "</style>\n",
       "<table border=\"1\" class=\"dataframe\">\n",
       "  <thead>\n",
       "    <tr style=\"text-align: right;\">\n",
       "      <th></th>\n",
       "      <th>session_id</th>\n",
       "      <th>site1</th>\n",
       "      <th>site2</th>\n",
       "      <th>site3</th>\n",
       "      <th>site4</th>\n",
       "      <th>site5</th>\n",
       "      <th>site6</th>\n",
       "      <th>site7</th>\n",
       "      <th>site8</th>\n",
       "      <th>site9</th>\n",
       "      <th>site10</th>\n",
       "      <th>target</th>\n",
       "      <th>time1hours</th>\n",
       "      <th>time2hours</th>\n",
       "      <th>time3hours</th>\n",
       "      <th>time4hours</th>\n",
       "      <th>time5hours</th>\n",
       "      <th>time6hours</th>\n",
       "      <th>time7hours</th>\n",
       "      <th>time8hours</th>\n",
       "      <th>time9hours</th>\n",
       "      <th>time10hours</th>\n",
       "      <th>all_sites</th>\n",
       "    </tr>\n",
       "  </thead>\n",
       "  <tbody>\n",
       "    <tr>\n",
       "      <th>0</th>\n",
       "      <td>1</td>\n",
       "      <td>718</td>\n",
       "      <td>-1</td>\n",
       "      <td>-1</td>\n",
       "      <td>-1</td>\n",
       "      <td>-1</td>\n",
       "      <td>-1</td>\n",
       "      <td>-1</td>\n",
       "      <td>-1</td>\n",
       "      <td>-1</td>\n",
       "      <td>-1</td>\n",
       "      <td>0</td>\n",
       "      <td>10</td>\n",
       "      <td>-1</td>\n",
       "      <td>-1</td>\n",
       "      <td>-1</td>\n",
       "      <td>-1</td>\n",
       "      <td>-1</td>\n",
       "      <td>-1</td>\n",
       "      <td>-1</td>\n",
       "      <td>-1</td>\n",
       "      <td>-1</td>\n",
       "      <td>{'718': 1, '10': 1}</td>\n",
       "    </tr>\n",
       "    <tr>\n",
       "      <th>1</th>\n",
       "      <td>2</td>\n",
       "      <td>890</td>\n",
       "      <td>941</td>\n",
       "      <td>3847</td>\n",
       "      <td>941</td>\n",
       "      <td>942</td>\n",
       "      <td>3846</td>\n",
       "      <td>3847</td>\n",
       "      <td>3846</td>\n",
       "      <td>1516</td>\n",
       "      <td>1518</td>\n",
       "      <td>0</td>\n",
       "      <td>11</td>\n",
       "      <td>11</td>\n",
       "      <td>11</td>\n",
       "      <td>11</td>\n",
       "      <td>11</td>\n",
       "      <td>11</td>\n",
       "      <td>11</td>\n",
       "      <td>11</td>\n",
       "      <td>11</td>\n",
       "      <td>11</td>\n",
       "      <td>{'890': 1, '941': 1, '3847': 1, '942': 1, '384...</td>\n",
       "    </tr>\n",
       "    <tr>\n",
       "      <th>2</th>\n",
       "      <td>3</td>\n",
       "      <td>14769</td>\n",
       "      <td>39</td>\n",
       "      <td>14768</td>\n",
       "      <td>14769</td>\n",
       "      <td>37</td>\n",
       "      <td>39</td>\n",
       "      <td>14768</td>\n",
       "      <td>14768</td>\n",
       "      <td>14768</td>\n",
       "      <td>14768</td>\n",
       "      <td>0</td>\n",
       "      <td>16</td>\n",
       "      <td>16</td>\n",
       "      <td>16</td>\n",
       "      <td>16</td>\n",
       "      <td>16</td>\n",
       "      <td>16</td>\n",
       "      <td>16</td>\n",
       "      <td>16</td>\n",
       "      <td>16</td>\n",
       "      <td>16</td>\n",
       "      <td>{'14769': 1, '39': 1, '14768': 1, '37': 1, '16...</td>\n",
       "    </tr>\n",
       "    <tr>\n",
       "      <th>3</th>\n",
       "      <td>4</td>\n",
       "      <td>782</td>\n",
       "      <td>782</td>\n",
       "      <td>782</td>\n",
       "      <td>782</td>\n",
       "      <td>782</td>\n",
       "      <td>782</td>\n",
       "      <td>782</td>\n",
       "      <td>782</td>\n",
       "      <td>782</td>\n",
       "      <td>782</td>\n",
       "      <td>0</td>\n",
       "      <td>10</td>\n",
       "      <td>10</td>\n",
       "      <td>10</td>\n",
       "      <td>10</td>\n",
       "      <td>10</td>\n",
       "      <td>10</td>\n",
       "      <td>10</td>\n",
       "      <td>10</td>\n",
       "      <td>10</td>\n",
       "      <td>10</td>\n",
       "      <td>{'782': 1, '10': 1}</td>\n",
       "    </tr>\n",
       "    <tr>\n",
       "      <th>4</th>\n",
       "      <td>5</td>\n",
       "      <td>22</td>\n",
       "      <td>177</td>\n",
       "      <td>175</td>\n",
       "      <td>178</td>\n",
       "      <td>177</td>\n",
       "      <td>178</td>\n",
       "      <td>175</td>\n",
       "      <td>177</td>\n",
       "      <td>177</td>\n",
       "      <td>178</td>\n",
       "      <td>0</td>\n",
       "      <td>10</td>\n",
       "      <td>10</td>\n",
       "      <td>10</td>\n",
       "      <td>10</td>\n",
       "      <td>10</td>\n",
       "      <td>10</td>\n",
       "      <td>10</td>\n",
       "      <td>10</td>\n",
       "      <td>10</td>\n",
       "      <td>10</td>\n",
       "      <td>{'22': 1, '177': 1, '175': 1, '178': 1, '10': 1}</td>\n",
       "    </tr>\n",
       "  </tbody>\n",
       "</table>\n",
       "</div>"
      ],
      "text/plain": [
       "   session_id  site1  site2  site3  site4  site5  site6  site7  site8  site9  \\\n",
       "0           1    718     -1     -1     -1     -1     -1     -1     -1     -1   \n",
       "1           2    890    941   3847    941    942   3846   3847   3846   1516   \n",
       "2           3  14769     39  14768  14769     37     39  14768  14768  14768   \n",
       "3           4    782    782    782    782    782    782    782    782    782   \n",
       "4           5     22    177    175    178    177    178    175    177    177   \n",
       "\n",
       "   site10  target  time1hours  time2hours  time3hours  time4hours  time5hours  \\\n",
       "0      -1       0          10          -1          -1          -1          -1   \n",
       "1    1518       0          11          11          11          11          11   \n",
       "2   14768       0          16          16          16          16          16   \n",
       "3     782       0          10          10          10          10          10   \n",
       "4     178       0          10          10          10          10          10   \n",
       "\n",
       "   time6hours  time7hours  time8hours  time9hours  time10hours  \\\n",
       "0          -1          -1          -1          -1           -1   \n",
       "1          11          11          11          11           11   \n",
       "2          16          16          16          16           16   \n",
       "3          10          10          10          10           10   \n",
       "4          10          10          10          10           10   \n",
       "\n",
       "                                           all_sites  \n",
       "0                                {'718': 1, '10': 1}  \n",
       "1  {'890': 1, '941': 1, '3847': 1, '942': 1, '384...  \n",
       "2  {'14769': 1, '39': 1, '14768': 1, '37': 1, '16...  \n",
       "3                                {'782': 1, '10': 1}  \n",
       "4   {'22': 1, '177': 1, '175': 1, '178': 1, '10': 1}  "
      ]
     },
     "execution_count": 162,
     "metadata": {},
     "output_type": "execute_result"
    }
   ],
   "source": [
    "data.head()"
   ]
  },
  {
   "cell_type": "code",
   "execution_count": 163,
   "metadata": {
    "ExecuteTime": {
     "end_time": "2018-11-30T20:47:24.900759Z",
     "start_time": "2018-11-30T20:47:24.453167Z"
    }
   },
   "outputs": [],
   "source": [
    "#Считаем, сколько всего сайтов было пройдено за сессию\n",
    "data['len_sites'] = data['all_sites'].apply(lambda x: sum(x.values()))"
   ]
  },
  {
   "cell_type": "code",
   "execution_count": 164,
   "metadata": {
    "ExecuteTime": {
     "end_time": "2018-11-30T20:47:25.008017Z",
     "start_time": "2018-11-30T20:47:24.904170Z"
    }
   },
   "outputs": [],
   "source": [
    "#для скорости создаем лист из наших словарей\n",
    "sp_list = list(data['all_sites'])"
   ]
  },
  {
   "cell_type": "code",
   "execution_count": 165,
   "metadata": {
    "ExecuteTime": {
     "end_time": "2018-11-30T20:47:25.020550Z",
     "start_time": "2018-11-30T20:47:25.014177Z"
    }
   },
   "outputs": [
    {
     "data": {
      "text/plain": [
       "336358"
      ]
     },
     "execution_count": 165,
     "metadata": {},
     "output_type": "execute_result"
    }
   ],
   "source": [
    "data.shape[0]"
   ]
  },
  {
   "cell_type": "code",
   "execution_count": 166,
   "metadata": {
    "ExecuteTime": {
     "end_time": "2018-11-30T20:47:48.307484Z",
     "start_time": "2018-11-30T20:47:25.024836Z"
    },
    "scrolled": true
   },
   "outputs": [],
   "source": [
    "#инициализируем пустую спарс матрицу и задаем ее размер с запасом\n",
    "site1 = lil_matrix((data.shape[0], 100000))#, dtype=np.int)\n",
    "row = 0\n",
    "\n",
    "#в цикле идем по каждой строке и ставим единичку в ту колонку, сайт которой есть в строке\n",
    "for s in sp_list:\n",
    "    for key, value in s.items():\n",
    "        site1[row, int(key)] =  1\n",
    "    row+=1\n",
    "\n",
    "#убираем лишние нулевые колонки\n",
    "site1 = site1.tocsc()[:, np.where(site1.getnnz(axis=0) > 0)[0]].tocsr()\n"
   ]
  },
  {
   "cell_type": "code",
   "execution_count": 167,
   "metadata": {
    "ExecuteTime": {
     "end_time": "2018-11-30T20:47:48.326503Z",
     "start_time": "2018-11-30T20:47:48.315220Z"
    }
   },
   "outputs": [
    {
     "data": {
      "text/plain": [
       "<336358x48371 sparse matrix of type '<class 'numpy.float64'>'\n",
       "\twith 2212187 stored elements in Compressed Sparse Row format>"
      ]
     },
     "execution_count": 167,
     "metadata": {},
     "output_type": "execute_result"
    }
   ],
   "source": [
    "#размер нашего спарса\n",
    "site1"
   ]
  },
  {
   "cell_type": "code",
   "execution_count": 168,
   "metadata": {
    "ExecuteTime": {
     "end_time": "2018-11-30T20:47:48.671387Z",
     "start_time": "2018-11-30T20:47:48.329998Z"
    }
   },
   "outputs": [],
   "source": [
    "#в данной ячейке мы удаляем все колонки с нулевыми значениями в колонках теста \n",
    "#и здесь мы ликуем, надеясь, что это даст выше скор\n",
    "ttest = site1[idx_split:]\n",
    "site1 = site1.tocsc()[:, np.where((ttest.getnnz(axis=0) > 0))[0]].tocsr()"
   ]
  },
  {
   "cell_type": "code",
   "execution_count": 169,
   "metadata": {
    "ExecuteTime": {
     "end_time": "2018-11-30T20:47:48.740822Z",
     "start_time": "2018-11-30T20:47:48.678365Z"
    }
   },
   "outputs": [],
   "source": [
    "#делим снова на тест и трейн\n",
    "ttest = site1[idx_split:]\n",
    "site1 = site1[:idx_split]"
   ]
  },
  {
   "cell_type": "code",
   "execution_count": 170,
   "metadata": {
    "ExecuteTime": {
     "end_time": "2018-11-30T20:47:48.766109Z",
     "start_time": "2018-11-30T20:47:48.748716Z"
    }
   },
   "outputs": [
    {
     "data": {
      "text/plain": [
       "<253561x15857 sparse matrix of type '<class 'numpy.float64'>'\n",
       "\twith 1581093 stored elements in Compressed Sparse Row format>"
      ]
     },
     "execution_count": 170,
     "metadata": {},
     "output_type": "execute_result"
    }
   ],
   "source": [
    "site1"
   ]
  },
  {
   "cell_type": "code",
   "execution_count": 171,
   "metadata": {
    "ExecuteTime": {
     "end_time": "2018-11-30T20:47:48.785821Z",
     "start_time": "2018-11-30T20:47:48.776153Z"
    }
   },
   "outputs": [
    {
     "data": {
      "text/plain": [
       "<82797x15857 sparse matrix of type '<class 'numpy.float64'>'\n",
       "\twith 522328 stored elements in Compressed Sparse Row format>"
      ]
     },
     "execution_count": 171,
     "metadata": {},
     "output_type": "execute_result"
    }
   ],
   "source": [
    "ttest"
   ]
  },
  {
   "cell_type": "code",
   "execution_count": 172,
   "metadata": {
    "ExecuteTime": {
     "end_time": "2018-11-30T20:48:44.355435Z",
     "start_time": "2018-11-30T20:47:48.789381Z"
    }
   },
   "outputs": [
    {
     "name": "stdout",
     "output_type": "stream",
     "text": [
      "Start 1 fold\n",
      "fold score: 0.97477861538875 0.1\n",
      "crossval score: 0.97477861538875 std 0.0\n",
      "---------------------------------------\n",
      "Start 2 fold\n",
      "fold score: 0.9757828070148816 0.09\n",
      "crossval score: 0.9752807112018158 std 0.0005020958130658171\n",
      "---------------------------------------\n",
      "Start 3 fold\n",
      "fold score: 0.9748486817962764 0.1\n",
      "crossval score: 0.9751367013999693 std 0.0004577602535402202\n",
      "---------------------------------------\n",
      "Start 4 fold\n",
      "fold score: 0.9801454240806045 0.08\n",
      "crossval score: 0.9763888820701281 std 0.002204773827277707\n",
      "---------------------------------------\n",
      "Start 5 fold\n",
      "fold score: 0.9745940162437716 0.09\n",
      "crossval score: 0.9760299089048567 std 0.0020986350414254045\n",
      "---------------------------------------\n",
      "Start 6 fold\n",
      "fold score: 0.980982519218647 0.09\n",
      "crossval score: 0.9768553439571551 std 0.0026602517409817015\n",
      "---------------------------------------\n",
      "Start 7 fold\n",
      "fold score: 0.9798982509134666 0.09\n",
      "crossval score: 0.9772900449509139 std 0.002683232699011758\n",
      "---------------------------------------\n",
      "Start 8 fold\n",
      "fold score: 0.9797861232312615 0.08\n",
      "crossval score: 0.9776020547359574 std 0.002642200076480802\n",
      "---------------------------------------\n",
      "Start 9 fold\n",
      "fold score: 0.9836181229130228 0.09\n",
      "crossval score: 0.9782705067556314 std 0.0031273239064180452\n",
      "---------------------------------------\n",
      "Start 10 fold\n",
      "fold score: 0.9877127024593564 0.11\n",
      "crossval score: 0.9792147263260039 std 0.004101962299651035\n",
      "---------------------------------------\n"
     ]
    }
   ],
   "source": [
    "#обучаем с кросс-валидацией линейную регрессию\n",
    "#предсказываем 10 раз трейн, дальше усредним\n",
    "answ = []\n",
    "v_metric = []\n",
    "\n",
    "n=1\n",
    "\n",
    "kf = KFold(n_splits=10, shuffle=True, random_state=777)   \n",
    "for tr_ind, val_ind in kf.split(site1):\n",
    "    print('Start {} fold'.format(n))\n",
    "\n",
    "    val = site1[val_ind]\n",
    "    ttt = site1[tr_ind] \n",
    "\n",
    "    start_time = time.time()\n",
    "    clf = LogisticRegression(C=2, solver='lbfgs', max_iter=1000,\n",
    "                            random_state=777)\n",
    "\n",
    "    clf.fit(ttt, data['target'][tr_ind].reset_index(drop=True)) \n",
    "\n",
    "    model_pred_valid = clf.predict_proba(val)[:, 1]\n",
    "\n",
    "    y_valid = data['target'][val_ind].reset_index(drop=True)\n",
    "    valid_metric = auc(y_valid, model_pred_valid)\n",
    "    v_metric.append(valid_metric)\n",
    "\n",
    "    print('fold score:', valid_metric, round((time.time() - start_time)/60, 2))\n",
    "    model_pred = clf.predict_proba(ttest)[:, 1]\n",
    "    answ.append(model_pred)\n",
    "\n",
    "    n+=1\n",
    "\n",
    "    print('crossval score:', np.mean(v_metric), 'std', np.std(v_metric))\n",
    "    print('---------------------------------------')"
   ]
  },
  {
   "cell_type": "code",
   "execution_count": 173,
   "metadata": {
    "ExecuteTime": {
     "end_time": "2018-11-30T20:48:44.439866Z",
     "start_time": "2018-11-30T20:48:44.358923Z"
    }
   },
   "outputs": [],
   "source": [
    "#собираем предсказания теста\n",
    "answ_df = pd.DataFrame()\n",
    "for i in range(len(answ)):\n",
    "    answ_df['an'+str(i)] = answ[i]\n",
    "answ_df['answer'] = answ_df.mean(axis=1)"
   ]
  },
  {
   "cell_type": "code",
   "execution_count": 174,
   "metadata": {
    "ExecuteTime": {
     "end_time": "2018-11-30T20:48:44.482447Z",
     "start_time": "2018-11-30T20:48:44.446461Z"
    }
   },
   "outputs": [
    {
     "data": {
      "text/html": [
       "<div>\n",
       "<style scoped>\n",
       "    .dataframe tbody tr th:only-of-type {\n",
       "        vertical-align: middle;\n",
       "    }\n",
       "\n",
       "    .dataframe tbody tr th {\n",
       "        vertical-align: top;\n",
       "    }\n",
       "\n",
       "    .dataframe thead th {\n",
       "        text-align: right;\n",
       "    }\n",
       "</style>\n",
       "<table border=\"1\" class=\"dataframe\">\n",
       "  <thead>\n",
       "    <tr style=\"text-align: right;\">\n",
       "      <th></th>\n",
       "      <th>an0</th>\n",
       "      <th>an1</th>\n",
       "      <th>an2</th>\n",
       "      <th>an3</th>\n",
       "      <th>an4</th>\n",
       "      <th>an5</th>\n",
       "      <th>an6</th>\n",
       "      <th>an7</th>\n",
       "      <th>an8</th>\n",
       "      <th>an9</th>\n",
       "      <th>answer</th>\n",
       "    </tr>\n",
       "  </thead>\n",
       "  <tbody>\n",
       "    <tr>\n",
       "      <th>0</th>\n",
       "      <td>1.757254e-04</td>\n",
       "      <td>2.409355e-04</td>\n",
       "      <td>1.969017e-04</td>\n",
       "      <td>1.728496e-04</td>\n",
       "      <td>1.380436e-04</td>\n",
       "      <td>1.676958e-04</td>\n",
       "      <td>1.245776e-04</td>\n",
       "      <td>1.563077e-04</td>\n",
       "      <td>1.944676e-04</td>\n",
       "      <td>2.212621e-04</td>\n",
       "      <td>1.788767e-04</td>\n",
       "    </tr>\n",
       "    <tr>\n",
       "      <th>1</th>\n",
       "      <td>5.087860e-05</td>\n",
       "      <td>4.553811e-05</td>\n",
       "      <td>4.409239e-05</td>\n",
       "      <td>4.990177e-05</td>\n",
       "      <td>4.370581e-05</td>\n",
       "      <td>3.886130e-05</td>\n",
       "      <td>4.845266e-05</td>\n",
       "      <td>4.634258e-05</td>\n",
       "      <td>4.706723e-05</td>\n",
       "      <td>5.074653e-05</td>\n",
       "      <td>4.655870e-05</td>\n",
       "    </tr>\n",
       "    <tr>\n",
       "      <th>2</th>\n",
       "      <td>4.838427e-05</td>\n",
       "      <td>4.125738e-05</td>\n",
       "      <td>4.276697e-05</td>\n",
       "      <td>4.939097e-05</td>\n",
       "      <td>4.651539e-05</td>\n",
       "      <td>4.001193e-05</td>\n",
       "      <td>4.481238e-05</td>\n",
       "      <td>5.306353e-05</td>\n",
       "      <td>5.013573e-05</td>\n",
       "      <td>5.368914e-05</td>\n",
       "      <td>4.700277e-05</td>\n",
       "    </tr>\n",
       "    <tr>\n",
       "      <th>3</th>\n",
       "      <td>1.365636e-08</td>\n",
       "      <td>1.263008e-08</td>\n",
       "      <td>1.066219e-08</td>\n",
       "      <td>1.464965e-08</td>\n",
       "      <td>1.352933e-08</td>\n",
       "      <td>1.498467e-08</td>\n",
       "      <td>1.010768e-08</td>\n",
       "      <td>9.379403e-09</td>\n",
       "      <td>1.314464e-08</td>\n",
       "      <td>1.049951e-08</td>\n",
       "      <td>1.232435e-08</td>\n",
       "    </tr>\n",
       "    <tr>\n",
       "      <th>4</th>\n",
       "      <td>2.785610e-06</td>\n",
       "      <td>2.659884e-06</td>\n",
       "      <td>2.040587e-07</td>\n",
       "      <td>2.420955e-06</td>\n",
       "      <td>2.437611e-06</td>\n",
       "      <td>1.989232e-06</td>\n",
       "      <td>2.427787e-06</td>\n",
       "      <td>2.945337e-06</td>\n",
       "      <td>2.786196e-06</td>\n",
       "      <td>2.947039e-06</td>\n",
       "      <td>2.360371e-06</td>\n",
       "    </tr>\n",
       "  </tbody>\n",
       "</table>\n",
       "</div>"
      ],
      "text/plain": [
       "            an0           an1           an2           an3           an4  \\\n",
       "0  1.757254e-04  2.409355e-04  1.969017e-04  1.728496e-04  1.380436e-04   \n",
       "1  5.087860e-05  4.553811e-05  4.409239e-05  4.990177e-05  4.370581e-05   \n",
       "2  4.838427e-05  4.125738e-05  4.276697e-05  4.939097e-05  4.651539e-05   \n",
       "3  1.365636e-08  1.263008e-08  1.066219e-08  1.464965e-08  1.352933e-08   \n",
       "4  2.785610e-06  2.659884e-06  2.040587e-07  2.420955e-06  2.437611e-06   \n",
       "\n",
       "            an5           an6           an7           an8           an9  \\\n",
       "0  1.676958e-04  1.245776e-04  1.563077e-04  1.944676e-04  2.212621e-04   \n",
       "1  3.886130e-05  4.845266e-05  4.634258e-05  4.706723e-05  5.074653e-05   \n",
       "2  4.001193e-05  4.481238e-05  5.306353e-05  5.013573e-05  5.368914e-05   \n",
       "3  1.498467e-08  1.010768e-08  9.379403e-09  1.314464e-08  1.049951e-08   \n",
       "4  1.989232e-06  2.427787e-06  2.945337e-06  2.786196e-06  2.947039e-06   \n",
       "\n",
       "         answer  \n",
       "0  1.788767e-04  \n",
       "1  4.655870e-05  \n",
       "2  4.700277e-05  \n",
       "3  1.232435e-08  \n",
       "4  2.360371e-06  "
      ]
     },
     "execution_count": 174,
     "metadata": {},
     "output_type": "execute_result"
    }
   ],
   "source": [
    "answ_df.head()"
   ]
  },
  {
   "cell_type": "code",
   "execution_count": 175,
   "metadata": {
    "ExecuteTime": {
     "end_time": "2018-11-30T20:48:44.493564Z",
     "start_time": "2018-11-30T20:48:44.486445Z"
    }
   },
   "outputs": [],
   "source": [
    "#пишем функцию для сабмита и делаем сабмит\n",
    "\n",
    "def write_to_submission_file(predicted_labels, out_file,\n",
    "                             target='target', index_label=\"session_id\"):\n",
    "    predicted_df = pd.DataFrame(predicted_labels,\n",
    "                                index = np.arange(1, predicted_labels.shape[0] + 1),\n",
    "                                columns=[target])\n",
    "    predicted_df.to_csv(out_file, index_label=index_label)"
   ]
  },
  {
   "cell_type": "code",
   "execution_count": 176,
   "metadata": {
    "ExecuteTime": {
     "end_time": "2018-11-30T20:48:44.503875Z",
     "start_time": "2018-11-30T20:48:44.498010Z"
    }
   },
   "outputs": [],
   "source": [
    "y_test = np.array(answ_df['answer'])"
   ]
  },
  {
   "cell_type": "code",
   "execution_count": 177,
   "metadata": {
    "ExecuteTime": {
     "end_time": "2018-11-30T20:48:45.071556Z",
     "start_time": "2018-11-30T20:48:44.511578Z"
    }
   },
   "outputs": [],
   "source": [
    "write_to_submission_file(y_test, 'submission.csv')"
   ]
  },
  {
   "cell_type": "code",
   "execution_count": null,
   "metadata": {},
   "outputs": [],
   "source": []
  }
 ],
 "metadata": {
  "kernelspec": {
   "display_name": "Python 3",
   "language": "python",
   "name": "python3"
  },
  "language_info": {
   "codemirror_mode": {
    "name": "ipython",
    "version": 3
   },
   "file_extension": ".py",
   "mimetype": "text/x-python",
   "name": "python",
   "nbconvert_exporter": "python",
   "pygments_lexer": "ipython3",
   "version": "3.6.5"
  }
 },
 "nbformat": 4,
 "nbformat_minor": 2
}
